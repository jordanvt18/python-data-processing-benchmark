{
 "cells": [
  {
   "cell_type": "markdown",
   "metadata": {},
   "source": [
    "# Comparativa de Operaciones Básicas: Pandas vs Polars vs Data.table\n",
    "\n",
    "Este notebook compara el rendimiento de operaciones básicas entre las tres librerías principales de procesamiento de datos en Python."
   ]
  },
  {
   "cell_type": "code",
   "execution_count": null,
   "metadata": {},
   "source": [
    "import pandas as pd\n",
    "import polars as pl\n",
    "import datatable as dt\n",
    "import numpy as np\n",
    "import matplotlib.pyplot as plt\n",
    "import seaborn as sns\n",
    "from time import time\n",
    "import sys\n",
    "sys.path.append('..')\n",
    "from src.benchmarks import run_benchmark, create_sample_data"
   ]
  },
  {
   "cell_type": "markdown",
   "metadata": {},
   "source": [
    "## 1. Configuración del Entorno de Pruebas"
   ]
  },
  {
   "cell_type": "code",
   "execution_count": null,
   "metadata": {},
   "source": [
    "# Crear datos de prueba\n",
    "N_ROWS = 1_000_000\n",
    "data = create_sample_data(N_ROWS)\n",
    "\n",
    "# Verificar versiones de las librerías\n",
    "print(f\"Pandas version: {pd.__version__}\")\n",
    "print(f\"Polars version: {pl.__version__}\")\n",
    "print(f\"Datatable version: {dt.__version__}\")"
   ]
  },
  {
   "cell_type": "markdown",
   "metadata": {},
   "source": [
    "## 2. Pruebas de Rendimiento"
   ]
  },
  {
   "cell_type": "code",
   "execution_count": null,
   "metadata": {},
   "source": [
    "def benchmark_io_operations():\n",
    "    results = {}\n",
    "    \n",
    "    # Pandas\n",
    "    start = time()\n",
    "    df_pd = pd.DataFrame(data)\n",
    "    df_pd.to_csv('test_pandas.csv', index=False)\n",
    "    df_read = pd.read_csv('test_pandas.csv')\n",
    "    results['Pandas'] = time() - start\n",
    "    \n",
    "    # Polars\n",
    "    start = time()\n",
    "    df_pl = pl.DataFrame(data)\n",
    "    df_pl.write_csv('test_polars.csv')\n",
    "    df_read = pl.read_csv('test_polars.csv')\n",
    "    results['Polars'] = time() - start\n",
    "    \n",
    "    # Data.table\n",
    "    start = time()\n",
    "    df_dt = dt.Frame(data)\n",
    "    df_dt.to_csv('test_datatable.csv')\n",
    "    df_read = dt.fread('test_datatable.csv')\n",
    "    results['Data.table'] = time() - start\n",
    "    \n",
    "    return results\n",
    "\n",
    "# Ejecutar benchmark\n",
    "results = benchmark_io_operations()\n",
    "\n",
    "# Visualizar resultados\n",
    "plt.figure(figsize=(10, 6))\n",
    "sns.barplot(x=list(results.keys()), y=list(results.values()))\n",
    "plt.title('Tiempo de Operaciones IO')\n",
    "plt.ylabel('Tiempo (segundos)')\n",
    "plt.show()"
   ]
  }
 ],
 "metadata": {
  "kernelspec": {
   "display_name": "Python 3",
   "language": "python",
   "name": "python3"
  }
 }
}
