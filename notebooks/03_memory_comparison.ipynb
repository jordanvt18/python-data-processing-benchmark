{
 "cells": [
  {
   "cell_type": "markdown",
   "metadata": {},
   "source": [
    "# Comparación de Uso de Memoria - Pandas vs Polars"
   ]
  },
  {
   "cell_type": "code",
   "execution_count": 1,
   "metadata": {},
   "outputs": [],
   "source": [
    "import pandas as pd\n",
    "import polars as pl\n",
    "import numpy as np\n",
    "\n",
    "# Crear dataset\n",
    "data = np.random.randn(10**7, 5)\n",
    "columns = [f'col{i}' for i in range(5)]\n",
    "\n",
    "# Pandas\n",
    "df_pandas = pd.DataFrame(data, columns=columns)\n",
    "pandas_memory = df_pandas.memory_usage(deep=True).sum() / 1e6\n",
    "\n",
    "# Polars\n",
    "df_polars = pl.DataFrame(data, schema=columns)\n",
    "polars_memory = df_polars.estimated_size() / 1e6\n",
    "\n",
    "print(f'Memoria Pandas: {pandas_memory:.2f} MB')\n",
    "print(f'Memoria Polars: {polars_memory:.2f} MB')"
   ]
  }
 ],
 "metadata": {},
 "nbformat": 4,
 "nbformat_minor": 5
}
