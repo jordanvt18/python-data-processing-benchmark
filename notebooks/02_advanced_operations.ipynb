{
 "cells": [
  {
   "cell_type": "markdown",
   "metadata": {},
   "source": [
    "# Operaciones Avanzadas - Pandas vs Polars"
   ]
  },
  {
   "cell_type": "code",
   "execution_count": 1,
   "metadata": {},
   "outputs": [],
   "source": [
    "import pandas as pd\n",
    "import polars as pl\n",
    "import numpy as np\n",
    "import time\n",
    "\n",
    "# Crear dataset grande\n",
    "data = np.random.randn(10**7, 20)\n",
    "columns = [f'col{i}' for i in range(20)]\n",
    "\n",
    "# Operación avanzada - Pandas\n",
    "start = time.time()\n",
    "df_pandas = pd.DataFrame(data, columns=columns)\n",
    "df_pandas['mean'] = df_pandas.mean(axis=1)\n",
    "pandas_time = time.time() - start\n",
    "\n",
    "# Operación avanzada - Polars\n",
    "start = time.time()\n",
    "df_polars = pl.DataFrame(data, schema=columns)\n",
    "df_polars = df_polars.with_columns(df_polars.mean_horizontal().alias('mean'))\n",
    "polars_time = time.time() - start\n",
    "\n",
    "print(f'Pandas: {pandas_time:.2f} s')\n",
    "print(f'Polars: {polars_time:.2f} s')"
   ]
  }
 ],
 "metadata": {},
 "nbformat": 4,
 "nbformat_minor": 5
}
